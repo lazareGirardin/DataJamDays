{
 "cells": [
  {
   "cell_type": "code",
   "execution_count": null,
   "metadata": {
    "collapsed": true
   },
   "outputs": [],
   "source": [
    "import requests\n",
    "import json\n",
    "import pandas as pd\n",
    "import scipy as sc\n",
    "%matplotlib inline\n",
    "from masterscrap import masterscrap"
   ]
  },
  {
   "cell_type": "code",
   "execution_count": null,
   "metadata": {
    "collapsed": true
   },
   "outputs": [],
   "source": [
    "conseil_dict = {\n",
    "    \"Ignazio Cassis\" : 2664,\n",
    "    \"Doris Leuthard\" : 2510,\n",
    "    \"Ueli Maurer\" : 2310,\n",
    "    \"Johann Schneider-Ammann\" : 2530,\n",
    "    \"Christoph Blocher\" : 2017,\n",
    "    \"Guy Parmelin\" : 2621,\n",
    "    \"Didier Burkhalter\" : 2589,\n",
    "    \n",
    "}\n",
    "nb_pages = 10"
   ]
  },
  {
   "cell_type": "code",
   "execution_count": null,
   "metadata": {
    "collapsed": true
   },
   "outputs": [],
   "source": [
    "def fetch_factions(id_):\n",
    "    url = \"http://ws-old.parlament.ch/factions/\" + str(id_)\n",
    "    print(url)\n",
    "    params = {\n",
    "        'format':'json'}\n",
    "    headers = {\n",
    "    'User-Agent': 'Mozilla/5.0 (Windows NT 6.1) AppleWebKit/537.36 (KHTML, like Gecko) Chrome/41.0.2228.0 Safari/537.36'\n",
    "    }\n",
    "    resp = requests.get(url=url, params=params, headers=headers)\n",
    "    return resp"
   ]
  },
  {
   "cell_type": "code",
   "execution_count": null,
   "metadata": {},
   "outputs": [],
   "source": [
    "r = fetch_factions(4)"
   ]
  },
  {
   "cell_type": "code",
   "execution_count": null,
   "metadata": {
    "collapsed": true
   },
   "outputs": [],
   "source": [
    "j = r.json()"
   ]
  },
  {
   "cell_type": "code",
   "execution_count": null,
   "metadata": {
    "collapsed": true
   },
   "outputs": [],
   "source": [
    "list_factions = [4, 2, 1, 6]"
   ]
  },
  {
   "cell_type": "code",
   "execution_count": null,
   "metadata": {},
   "outputs": [],
   "source": [
    "total_list = {}\n",
    "party_dict = {}\n",
    "for id_ in list_factions:\n",
    "    r = fetch_factions(id_)\n",
    "    print (r.status_code)\n",
    "    j = r.json()\n",
    "    dict_ = {member['firstName'] + \" \" + member['lastName'] : member['number'] for member in j['members']}\n",
    "    partyy = {member['number'] : id_ for member in j['members']}\n",
    "    party_dict.update(partyy)\n",
    "    total_list.update(dict_)"
   ]
  },
  {
   "cell_type": "code",
   "execution_count": null,
   "metadata": {},
   "outputs": [],
   "source": [
    "len(total_list)"
   ]
  },
  {
   "cell_type": "code",
   "execution_count": null,
   "metadata": {},
   "outputs": [],
   "source": [
    "nb_pages = 5\n",
    "df = masterscrap(total_list , nb_pages)"
   ]
  },
  {
   "cell_type": "code",
   "execution_count": null,
   "metadata": {},
   "outputs": [],
   "source": [
    "df"
   ]
  },
  {
   "cell_type": "code",
   "execution_count": null,
   "metadata": {
    "collapsed": true
   },
   "outputs": [],
   "source": [
    "df.to_pickle(\"parlement_votes_5pages.pkl\")"
   ]
  },
  {
   "cell_type": "code",
   "execution_count": null,
   "metadata": {},
   "outputs": [],
   "source": [
    "df = pd.read_pickle(\"parlement_votes_5pages.pkl\")"
   ]
  },
  {
   "cell_type": "code",
   "execution_count": null,
   "metadata": {
    "collapsed": true
   },
   "outputs": [],
   "source": [
    "import networkx as nx\n",
    "import matplotlib.pyplot as plt\n",
    "\n",
    "def draw_graph(graph, df):\n",
    "    # extract nodes from graph\n",
    "    nodes = set([n1 for n1, n2 in graph] + [n2 for n1, n2 in graph])\n",
    "\n",
    "    # create networkx graph\n",
    "    G=nx.Graph()\n",
    "    G.position = {}\n",
    "\n",
    "    # add nodes\n",
    "    for node in nodes:\n",
    "        G.add_node(node)\n",
    "\n",
    "    # add edges\n",
    "    for edge in graph:\n",
    "        G.add_edge(edge[0], edge[1])\n",
    "\n",
    "    \n",
    "    # draw graph\n",
    "    pos=nx.spring_layout(G)\n",
    "    color_map = []\n",
    "    ids = df.columns.values\n",
    "    for node in G:\n",
    "        if node in ids:\n",
    "            color_map.append('blue')\n",
    "        else: \n",
    "            color_map.append('green')  \n",
    "    nx.draw(G, pos, node_color=color_map)\n",
    "\n",
    "    # show graph\n",
    "    plt.show()"
   ]
  },
  {
   "cell_type": "code",
   "execution_count": null,
   "metadata": {
    "collapsed": true
   },
   "outputs": [],
   "source": [
    "flatten = lambda l: [item for sublist in l for item in sublist]"
   ]
  },
  {
   "cell_type": "code",
   "execution_count": null,
   "metadata": {},
   "outputs": [],
   "source": [
    "# draw example\n",
    "edges = []\n",
    "for c in df:\n",
    "    votes = df[c]\n",
    "    edges += [(c, id_) for id_ in df.index.tolist() if votes.loc[id_] == 'Yes']"
   ]
  },
  {
   "cell_type": "code",
   "execution_count": null,
   "metadata": {},
   "outputs": [],
   "source": [
    "# draw example\n",
    "draw_graph(edges, df)"
   ]
  },
  {
   "cell_type": "code",
   "execution_count": null,
   "metadata": {
    "collapsed": true
   },
   "outputs": [],
   "source": [
    "from sklearn.decomposition import NMF"
   ]
  },
  {
   "cell_type": "code",
   "execution_count": null,
   "metadata": {},
   "outputs": [],
   "source": [
    "to_replace = {'Yes':2, 'No':1, 'P':0, 'EH':0, 'ES':0, 'NT':0}\n",
    "clean_df = df.replace(to_replace)\n",
    "clean_df = clean_df.fillna(0)\n",
    "clean_df"
   ]
  },
  {
   "cell_type": "markdown",
   "metadata": {},
   "source": [
    "## Sparse version"
   ]
  },
  {
   "cell_type": "code",
   "execution_count": null,
   "metadata": {},
   "outputs": [],
   "source": [
    "model = NMF(n_components=2, init='random', random_state=0)\n",
    "W = model.fit_transform(clean_df)\n",
    "H = model.components_"
   ]
  },
  {
   "cell_type": "code",
   "execution_count": null,
   "metadata": {},
   "outputs": [],
   "source": [
    "clean_df.shape"
   ]
  },
  {
   "cell_type": "code",
   "execution_count": null,
   "metadata": {},
   "outputs": [],
   "source": [
    "model = NMF(n_components=2, init='random', random_state=0)\n",
    "W = model.fit_transform(clean_df)\n",
    "H = model.components_"
   ]
  },
  {
   "cell_type": "code",
   "execution_count": null,
   "metadata": {},
   "outputs": [],
   "source": [
    "H.shape"
   ]
  },
  {
   "cell_type": "code",
   "execution_count": null,
   "metadata": {},
   "outputs": [],
   "source": [
    "W.shape"
   ]
  },
  {
   "cell_type": "code",
   "execution_count": null,
   "metadata": {},
   "outputs": [],
   "source": [
    "total_list['Jean-Luc Addor']"
   ]
  },
  {
   "cell_type": "code",
   "execution_count": null,
   "metadata": {},
   "outputs": [],
   "source": [
    "plt.title(\"Politician Concept Mapping\")\n",
    "x = H[0,:]\n",
    "y = H[1,:]\n",
    "color_dict = {4:'chocolate', 2:'red', 1:'blue', 6:'green'}\n",
    "plt.xlabel(\"Component 1 score\")\n",
    "plt.ylabel(\"Component 2 score\")\n",
    "j=0\n",
    "for i,c in enumerate(total_list):\n",
    "    print(H[0,:][i])\n",
    "    plt.plot(H[0,:][i], H[1,:][i], color=color_dict[party_dict[total_list[c]]])\n",
    "    #plt.annotate(c, (H[0,:][i], H[1,:][i]))\n",
    "plt.show()"
   ]
  },
  {
   "cell_type": "code",
   "execution_count": null,
   "metadata": {},
   "outputs": [],
   "source": [
    "plt.title(\"Vote Concept Mapping\")\n",
    "x = W[:,0]\n",
    "y = W[:,1]\n",
    "plt.scatter(x,y)\n",
    "plt.xlabel(\"Component 1 score\")\n",
    "plt.ylabel(\"Component 2 score\")\n",
    "plt.show()"
   ]
  },
  {
   "cell_type": "code",
   "execution_count": null,
   "metadata": {
    "collapsed": true
   },
   "outputs": [],
   "source": [
    "model = NMF(n_components=7, init='random', random_state=0)\n",
    "W = model.fit_transform(clean_df)\n",
    "H = model.components_"
   ]
  },
  {
   "cell_type": "code",
   "execution_count": null,
   "metadata": {},
   "outputs": [],
   "source": [
    "from sklearn.metrics import mean_squared_error\n",
    "\n",
    "nR = np.dot(W,H)\n",
    "mean_squared_error(clean_df.values.flatten(), list(nR.flatten()))"
   ]
  },
  {
   "cell_type": "code",
   "execution_count": null,
   "metadata": {
    "collapsed": true
   },
   "outputs": [],
   "source": []
  },
  {
   "cell_type": "code",
   "execution_count": null,
   "metadata": {
    "collapsed": true
   },
   "outputs": [],
   "source": [
    "from sklearn.manifold import TSNE"
   ]
  },
  {
   "cell_type": "code",
   "execution_count": null,
   "metadata": {
    "collapsed": true
   },
   "outputs": [],
   "source": [
    "W_embedded = TSNE(n_components=2).fit_transform(W)\n",
    "H_embedded = TSNE(n_components=2).fit_transform(H)"
   ]
  },
  {
   "cell_type": "code",
   "execution_count": null,
   "metadata": {},
   "outputs": [],
   "source": [
    "H_embedded.shape, W_embedded.shape"
   ]
  },
  {
   "cell_type": "code",
   "execution_count": null,
   "metadata": {
    "collapsed": true
   },
   "outputs": [],
   "source": []
  },
  {
   "cell_type": "code",
   "execution_count": null,
   "metadata": {},
   "outputs": [],
   "source": [
    "plt.title(\"Politician Concept Mapping\")\n",
    "x = H_embedded[:,0]\n",
    "y = H_embedded[:,1]\n",
    "plt.scatter(x,y)\n",
    "plt.xlabel(\"Component 1 score\")\n",
    "plt.ylabel(\"Component 2 score\")\n",
    "for i,c in enumerate(conseil_dict):\n",
    "    plt.annotate(c, (H_embedded[:,0][i], H_embedded[:,1][i]))\n",
    "plt.show()"
   ]
  },
  {
   "cell_type": "code",
   "execution_count": null,
   "metadata": {},
   "outputs": [],
   "source": [
    "plt.title(\"Vote Concept Mapping\")\n",
    "x = W_embedded[:,0]\n",
    "y = W_embedded[:,1]\n",
    "plt.scatter(x,y)\n",
    "plt.xlabel(\"Component 1 score\")\n",
    "plt.ylabel(\"Component 2 score\")\n",
    "plt.show()"
   ]
  },
  {
   "cell_type": "code",
   "execution_count": null,
   "metadata": {},
   "outputs": [],
   "source": [
    "#SVD\n",
    "import numpy as np\n",
    "from scipy.sparse.linalg import svds\n",
    "U, sigma, Vt = svds(clean_df - np.mean(clean_df), k = 5)"
   ]
  },
  {
   "cell_type": "code",
   "execution_count": null,
   "metadata": {},
   "outputs": [],
   "source": [
    "U.shape, Vt.shape"
   ]
  },
  {
   "cell_type": "code",
   "execution_count": null,
   "metadata": {},
   "outputs": [],
   "source": [
    "plt.title(\"Politician Concept Mapping\")\n",
    "x = Vt[0,:]\n",
    "y = Vt[1,:]\n",
    "plt.scatter(x,y)\n",
    "plt.xlabel(\"Component 1 score\")\n",
    "plt.ylabel(\"Component 2 score\")\n",
    "for i,c in enumerate(total_list):\n",
    "    plt.annotate(c, (Vt[0,:][i], Vt[1,:][i]))\n",
    "plt.show()"
   ]
  },
  {
   "cell_type": "code",
   "execution_count": null,
   "metadata": {
    "collapsed": true
   },
   "outputs": [],
   "source": []
  },
  {
   "cell_type": "code",
   "execution_count": null,
   "metadata": {
    "collapsed": true
   },
   "outputs": [],
   "source": []
  }
 ],
 "metadata": {
  "anaconda-cloud": {},
  "kernelspec": {
   "display_name": "Python 3",
   "language": "python",
   "name": "python3"
  },
  "language_info": {
   "codemirror_mode": {
    "name": "ipython",
    "version": 3
   },
   "file_extension": ".py",
   "mimetype": "text/x-python",
   "name": "python",
   "nbconvert_exporter": "python",
   "pygments_lexer": "ipython3",
   "version": "3.6.3"
  }
 },
 "nbformat": 4,
 "nbformat_minor": 1
}
